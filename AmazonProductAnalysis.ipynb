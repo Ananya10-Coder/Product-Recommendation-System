{
 "cells": [
  {
   "cell_type": "markdown",
   "id": "12fcb481",
   "metadata": {
    "id": "QDDl9_LPRcZ6"
   },
   "source": [
    "**This project uses the transformers library for sentiment analysis and summarization. It calculates the sentiment of each review, computes an average sentiment score, generates a summary of all reviews, and provides a final verdict based on the average score. Finally, it prints the summary and the verdict.**\n",
    "\n"
   ]
  },
  {
   "cell_type": "markdown",
   "id": "21eee3f3",
   "metadata": {
    "id": "kbWiewcyRPmZ"
   },
   "source": [
    "**This code block uses requests and BeautifulSoup to scrape up to 10 customer reviews from an Amazon product URL provided by the user, then prints the collected reviews.**\n"
   ]
  },
  {
   "cell_type": "code",
   "execution_count": null,
   "id": "c09488ca",
   "metadata": {
    "colab": {
     "base_uri": "https://localhost:8080/"
    },
    "id": "2Lay1p6rjU2T",
    "outputId": "54846f04-176a-450f-844f-709f31487297"
   },
   "outputs": [
    {
     "name": "stdout",
     "output_type": "stream",
     "text": [
      "Enter Amazon product reviews URL: https://www.amazon.in/SUGAR-Cosmetics-Matte-Crayon-Lipstick/dp/B09W5GJNJN/ref=pd_ci_mcx_mh_mcx_views_0_title?pd_rd_w=tdqOO&content-id=amzn1.sym.529d03fa-575b-4f2b-a4d6-0c02eabf0a7e%3Aamzn1.symc.45dc5f4c-d617-4dba-aa26-2cadef3da899&pf_rd_p=529d03fa-575b-4f2b-a4d6-0c02eabf0a7e&pf_rd_r=JQ1DHK3HPKY9TFMV075C&pd_rd_wg=okwlO&pd_rd_r=15acd3a0-d11a-402c-bedd-a9bd29d657f7&pd_rd_i=B09W5GJNJN&th=1\n",
      "\n",
      "Review 1:\n",
      "I’m obsessed with SUGAR’s Matte As Hell Crayon Lipstick in 15 Stephanie Plum (Plum Mauve)! This bold mauve-plum shade is my go-to for everything from work to nights out—it’s vibrant yet classy and flatters my medium Indian skin tone perfectly. The 2.8g crayon applies like a dream, giving full-coverage color in one swipe that lasts 8+ hours without fading. Its creamy, hydrating formula keeps my lips soft, and the silky matte finish feels luxe. The included sharpener ensures precise application, and the smudge-proof wear survives coffee and chats! Packaged in a chic black case, it’s a steal at Rs. 849 for such stunning quality!\n",
      "\n",
      "Review 2:\n",
      "👎👎👎Really disappointed with this purchase from Sugar. The product arrived damaged, and there’s no option for return or replacement, which is incredibly frustrating. I expected better quality control and customer support from such a well-known brand. It’s unacceptable to pay full price and receive a broken item with no way to fix the issue. Definitely rethinking future purchases from Sugar after this experience\n",
      "\n",
      "Review 3:\n",
      "It was nice product color quality was good\n",
      "\n",
      "Review 4:\n",
      "Lip crayon is very nice and smooth. The color is also long lasting. The best part I liked is it is very light weight. Your lips are gonna feel very light when applied.\n",
      "\n",
      "Review 5:\n",
      "Quality wise very good product however lipstick was broken so giving 3 star due to packaging\n",
      "\n",
      "Review 6:\n",
      "Got this product as a free gift and my first time using crayon. The shade is perfect for medium to dark skin tone. And gives adecent coverage. Smooth texture - glides so easily. didn't expect that from a crayon. Didn't dry out. And stayed throughout the day. Good quality product and is worth the pice point. No sharpner with it, but that can be overseen for this rate.\n",
      "\n",
      "Review 7:\n",
      "Worth for money\n",
      "\n",
      "Review 8:\n",
      "This is a free lipstick that I received when I bought one sugar lipstick. The colour is very beautiful but the lipstick is totally smudging and is washable. Quality wise the lipstick even if it is free it is a complete waste. Also this lipstick that is free comes with the only quantity that I have marked in the image but don't know why they mention the price is 386 for a free lipstick.\n"
     ]
    }
   ],
   "source": [
    "import requests\n",
    "from bs4 import BeautifulSoup\n",
    "\n",
    "def get_amazon_reviews(product_url, max_reviews=10):\n",
    "    reviews = []\n",
    "    headers = {\n",
    "        \"User-Agent\": \"Mozilla/5.0 (Windows NT 10.0; Win64; x64) AppleWebKit/537.36 (KHTML, like Gecko) \"\n",
    "                      \"Chrome/114.0.0.0 Safari/537.36\",\n",
    "        \"Accept-Language\": \"en-US,en;q=0.9\"\n",
    "    }\n",
    "\n",
    "    page = 1\n",
    "    while len(reviews) < max_reviews and page <= 5:\n",
    "        paged_url = f\"{product_url}?pageNumber={page}\"\n",
    "        try:\n",
    "            resp = requests.get(paged_url, headers=headers, timeout=10)\n",
    "            if resp.status_code != 200:\n",
    "                print(f\"Failed to fetch page {page}\")\n",
    "                break\n",
    "        except requests.exceptions.Timeout:\n",
    "            print(\"Request timed out.\")\n",
    "            break\n",
    "\n",
    "        soup = BeautifulSoup(resp.text, 'lxml')\n",
    "        review_divs = soup.find_all('span', {'data-hook': 'review-body'})\n",
    "\n",
    "        if not review_divs:\n",
    "            print(\"No reviews found or no more reviews.\")\n",
    "            break\n",
    "\n",
    "        for review in review_divs:\n",
    "            text = review.get_text(strip=True).replace(\"Read more\", \"\").strip()\n",
    "            if text and text not in reviews:\n",
    "                reviews.append(text)\n",
    "                if len(reviews) >= max_reviews:\n",
    "                    break\n",
    "\n",
    "        page += 1\n",
    "\n",
    "    return reviews\n",
    "\n",
    "product_url = input(\"Enter Amazon product reviews URL: \").strip()\n",
    "reviews = get_amazon_reviews(product_url, max_reviews=10)\n",
    "\n",
    "for i, r in enumerate(reviews, 1):\n",
    "    print(f\"\\nReview {i}:\\n{r}\")\n"
   ]
  },
  {
   "cell_type": "code",
   "execution_count": null,
   "id": "bd88273e",
   "metadata": {
    "colab": {
     "base_uri": "https://localhost:8080/"
    },
    "id": "kC9TQ9mykAt0",
    "outputId": "51d9b223-b741-4df7-b6db-af88278f061e"
   },
   "outputs": [
    {
     "name": "stdout",
     "output_type": "stream",
     "text": [
      "\u001b[2K   \u001b[90m━━━━━━━━━━━━━━━━━━━━━━━━━━━━━━━━━━━━━━━━\u001b[0m \u001b[32m363.4/363.4 MB\u001b[0m \u001b[31m4.4 MB/s\u001b[0m eta \u001b[36m0:00:00\u001b[0m\n",
      "\u001b[2K   \u001b[90m━━━━━━━━━━━━━━━━━━━━━━━━━━━━━━━━━━━━━━━━\u001b[0m \u001b[32m13.8/13.8 MB\u001b[0m \u001b[31m68.9 MB/s\u001b[0m eta \u001b[36m0:00:00\u001b[0m\n",
      "\u001b[2K   \u001b[90m━━━━━━━━━━━━━━━━━━━━━━━━━━━━━━━━━━━━━━━━\u001b[0m \u001b[32m24.6/24.6 MB\u001b[0m \u001b[31m36.6 MB/s\u001b[0m eta \u001b[36m0:00:00\u001b[0m\n",
      "\u001b[2K   \u001b[90m━━━━━━━━━━━━━━━━━━━━━━━━━━━━━━━━━━━━━━━━\u001b[0m \u001b[32m883.7/883.7 kB\u001b[0m \u001b[31m50.9 MB/s\u001b[0m eta \u001b[36m0:00:00\u001b[0m\n",
      "\u001b[2K   \u001b[90m━━━━━━━━━━━━━━━━━━━━━━━━━━━━━━━━━━━━━━━━\u001b[0m \u001b[32m664.8/664.8 MB\u001b[0m \u001b[31m1.5 MB/s\u001b[0m eta \u001b[36m0:00:00\u001b[0m\n",
      "\u001b[2K   \u001b[90m━━━━━━━━━━━━━━━━━━━━━━━━━━━━━━━━━━━━━━━━\u001b[0m \u001b[32m211.5/211.5 MB\u001b[0m \u001b[31m6.0 MB/s\u001b[0m eta \u001b[36m0:00:00\u001b[0m\n",
      "\u001b[2K   \u001b[90m━━━━━━━━━━━━━━━━━━━━━━━━━━━━━━━━━━━━━━━━\u001b[0m \u001b[32m56.3/56.3 MB\u001b[0m \u001b[31m14.8 MB/s\u001b[0m eta \u001b[36m0:00:00\u001b[0m\n",
      "\u001b[2K   \u001b[90m━━━━━━━━━━━━━━━━━━━━━━━━━━━━━━━━━━━━━━━━\u001b[0m \u001b[32m127.9/127.9 MB\u001b[0m \u001b[31m6.9 MB/s\u001b[0m eta \u001b[36m0:00:00\u001b[0m\n",
      "\u001b[2K   \u001b[90m━━━━━━━━━━━━━━━━━━━━━━━━━━━━━━━━━━━━━━━━\u001b[0m \u001b[32m207.5/207.5 MB\u001b[0m \u001b[31m5.6 MB/s\u001b[0m eta \u001b[36m0:00:00\u001b[0m\n",
      "\u001b[2K   \u001b[90m━━━━━━━━━━━━━━━━━━━━━━━━━━━━━━━━━━━━━━━━\u001b[0m \u001b[32m21.1/21.1 MB\u001b[0m \u001b[31m33.3 MB/s\u001b[0m eta \u001b[36m0:00:00\u001b[0m\n",
      "\u001b[?25h"
     ]
    }
   ],
   "source": [
    "!pip install transformers torch --quiet\n"
   ]
  },
  {
   "cell_type": "markdown",
   "id": "0adf3457",
   "metadata": {
    "id": "7rlBvGZhRJzk"
   },
   "source": [
    "**Performing sentiment analysis on collected reviews. Loading a pre-trained model and tokenizer. Predicting the sentiment (negative, neutral, positive) for each review.**"
   ]
  },
  {
   "cell_type": "code",
   "execution_count": null,
   "id": "1f40f188",
   "metadata": {
    "colab": {
     "base_uri": "https://localhost:8080/",
     "height": 908,
     "referenced_widgets": [
      "2b43b3a346d2479dae7f031a27526abb",
      "6d25272e1d584e6c80d48f4aa61f23e6",
      "71492061f546440e9dca061e731f6456",
      "7aba8621a2e94578898ba9a466125972",
      "fe775b4f29ec4a51b43af4e7d6824f40",
      "41d4beb51b924636aa8533eb525868de",
      "153aeb12a7f8409a958718c1bd22c800",
      "ff8e4c15ee09484cb2050e663e662e32",
      "763aba38f93d4a1a83d1b9e1bee852a4",
      "95cf0b10d19c4aee95c0bf5f3d884a3e",
      "e91f5098b5cf4741a65074310ee189b6",
      "b7c6f51d0e7f48eaae106f9ebc5b5512",
      "f00f48c9c2c74fd99c43b7891c97effa",
      "512cebc59c8e49baaffe33f4ff09e253",
      "15db47b8ad1d40c3961b9a0a46b3996f",
      "e499ebc1700a45b1afb1b4200b587346",
      "a9abc87fd9dd428ab304e2b9a6096a61",
      "fad446fcbe624e838950824258d9cb20",
      "27aa08350fe340d1a5ad2f40f0f32351",
      "c9cd2c7fd60b4923a94905bc6bc748fe",
      "13e2dab53b704c7e8becc613f04d9a4e",
      "a23e5d4c37b74c71adf3564ea5953bc0",
      "0b3dbfc76a1c49cabfa71e615048d606",
      "393214b79a0244139ff608bd16dbc574",
      "905cf203b53c4e559a476ed20dc7b450",
      "2deb96fc18e94ef28f1b9fc8f0855a0b",
      "7646af842e3a4009ab9fe73039e1fcf5",
      "da835c96ba2b449599cbec9ec945d160",
      "ef3632ca02c44bdfad3cb7e32c751439",
      "ed725c20167d49a395319e8e44872354",
      "98d43e3a4885461787ef53433152e481",
      "15efa563e97b469885f63100061d00c9",
      "50ddfa71381d46a6a6427a54131b2191",
      "43903c489f3f436289cca92dde62142e",
      "14b6beb4e6d14fb8858e1fa7b9eab97b",
      "da1cd681428d4bb2b771fa1bc82b4fdd",
      "1b8e9107d43c46f9b9dda586eccda079",
      "aefd7577efcd4080a8070995662e2074",
      "7be04b5e84f3465090c883f68d0c2101",
      "5354adac71c84cd59d36da761771d2d7",
      "9b0397729bfd4df9ae044f014b639a9f",
      "6c4790e0263c423e8d39d0c3847f06a1",
      "f6876bd6ec17457d8a5d57d0fcf6eff8",
      "7288f15326ae421eac0333a86fff8f38",
      "7561a8ab301e4e9482598718ffeb53eb",
      "dc72928595274b00bfc1347bdf31151b",
      "ed90fb7abe2546e59156875c5984712f",
      "02087177364e4a3cb10f374b0a482507",
      "3cd7cd41e9cc47399e91f41557cb0b84",
      "087adce23f4746929fc90b161f647cc3",
      "0ed1953305194bf4844d8a7b44ce16da",
      "b9c94f28d8fa4168a04a48c92cf87ecd",
      "b51d6bb2f4fa4fd78f99271300ce9278",
      "4e10c8b741ad475b9b5b06791397b15d",
      "dc3a2fd4195b4a29ba24f2b74fde0c38",
      "29ef1fdd59b34b09b60242d6fdb9ca58",
      "5e4e6083f7a047f1970c5d900da66a44",
      "c6a81305261145ac80cb9830a0c7de44",
      "cfb8736ae5c6444a8d285d7d830d060c",
      "189eb51f132842198a4c0d3fe4a7fe36",
      "63314c5083be433ea1ab5e825b813fe3",
      "0114647c92964759bdf1cf862294cdf7",
      "755b5be78a9647a2ab0247d5387cbad3",
      "9965ebaabb3d4ef89a7b43cb5d5e5d78",
      "bfac2d782b25472da57838ed087887c9",
      "9244965250c24054bc7a6dce85e2d20b"
     ]
    },
    "id": "0e1FPQlikE15",
    "outputId": "9a15ba08-1910-48db-f535-2c01ecd004aa"
   },
   "outputs": [
    {
     "name": "stderr",
     "output_type": "stream",
     "text": [
      "/usr/local/lib/python3.11/dist-packages/huggingface_hub/utils/_auth.py:94: UserWarning: \n",
      "The secret `HF_TOKEN` does not exist in your Colab secrets.\n",
      "To authenticate with the Hugging Face Hub, create a token in your settings tab (https://huggingface.co/settings/tokens), set it as secret in your Google Colab and restart your session.\n",
      "You will be able to reuse this secret in all of your notebooks.\n",
      "Please note that authentication is recommended but still optional to access public models or datasets.\n",
      "  warnings.warn(\n"
     ]
    },
    {
     "data": {
      "application/vnd.jupyter.widget-view+json": {
       "model_id": "2b43b3a346d2479dae7f031a27526abb",
       "version_major": 2,
       "version_minor": 0
      },
      "text/plain": [
       "config.json:   0%|          | 0.00/747 [00:00<?, ?B/s]"
      ]
     },
     "metadata": {},
     "output_type": "display_data"
    },
    {
     "data": {
      "application/vnd.jupyter.widget-view+json": {
       "model_id": "b7c6f51d0e7f48eaae106f9ebc5b5512",
       "version_major": 2,
       "version_minor": 0
      },
      "text/plain": [
       "vocab.json:   0%|          | 0.00/899k [00:00<?, ?B/s]"
      ]
     },
     "metadata": {},
     "output_type": "display_data"
    },
    {
     "data": {
      "application/vnd.jupyter.widget-view+json": {
       "model_id": "0b3dbfc76a1c49cabfa71e615048d606",
       "version_major": 2,
       "version_minor": 0
      },
      "text/plain": [
       "merges.txt:   0%|          | 0.00/456k [00:00<?, ?B/s]"
      ]
     },
     "metadata": {},
     "output_type": "display_data"
    },
    {
     "data": {
      "application/vnd.jupyter.widget-view+json": {
       "model_id": "43903c489f3f436289cca92dde62142e",
       "version_major": 2,
       "version_minor": 0
      },
      "text/plain": [
       "special_tokens_map.json:   0%|          | 0.00/150 [00:00<?, ?B/s]"
      ]
     },
     "metadata": {},
     "output_type": "display_data"
    },
    {
     "data": {
      "application/vnd.jupyter.widget-view+json": {
       "model_id": "7561a8ab301e4e9482598718ffeb53eb",
       "version_major": 2,
       "version_minor": 0
      },
      "text/plain": [
       "pytorch_model.bin:   0%|          | 0.00/499M [00:00<?, ?B/s]"
      ]
     },
     "metadata": {},
     "output_type": "display_data"
    },
    {
     "data": {
      "application/vnd.jupyter.widget-view+json": {
       "model_id": "29ef1fdd59b34b09b60242d6fdb9ca58",
       "version_major": 2,
       "version_minor": 0
      },
      "text/plain": [
       "model.safetensors:   0%|          | 0.00/499M [00:00<?, ?B/s]"
      ]
     },
     "metadata": {},
     "output_type": "display_data"
    },
    {
     "name": "stdout",
     "output_type": "stream",
     "text": [
      "\n",
      "Review 1:\n",
      "I’m obsessed with SUGAR’s Matte As Hell Crayon Lipstick in 15 Stephanie Plum (Plum Mauve)! This bold mauve-plum shade is my go-to for everything from work to nights out—it’s vibrant yet classy and flatters my medium Indian skin tone perfectly. The 2.8g crayon applies like a dream, giving full-coverage color in one swipe that lasts 8+ hours without fading. Its creamy, hydrating formula keeps my lips soft, and the silky matte finish feels luxe. The included sharpener ensures precise application, and the smudge-proof wear survives coffee and chats! Packaged in a chic black case, it’s a steal at Rs. 849 for such stunning quality!\n",
      "Sentiment: positive\n",
      "\n",
      "Review 2:\n",
      "👎👎👎Really disappointed with this purchase from Sugar. The product arrived damaged, and there’s no option for return or replacement, which is incredibly frustrating. I expected better quality control and customer support from such a well-known brand. It’s unacceptable to pay full price and receive a broken item with no way to fix the issue. Definitely rethinking future purchases from Sugar after this experience\n",
      "Sentiment: negative\n",
      "\n",
      "Review 3:\n",
      "It was nice product color quality was good\n",
      "Sentiment: positive\n",
      "\n",
      "Review 4:\n",
      "Lip crayon is very nice and smooth. The color is also long lasting. The best part I liked is it is very light weight. Your lips are gonna feel very light when applied.\n",
      "Sentiment: positive\n",
      "\n",
      "Review 5:\n",
      "Quality wise very good product however lipstick was broken so giving 3 star due to packaging\n",
      "Sentiment: neutral\n",
      "\n",
      "Review 6:\n",
      "Got this product as a free gift and my first time using crayon. The shade is perfect for medium to dark skin tone. And gives adecent coverage. Smooth texture - glides so easily. didn't expect that from a crayon. Didn't dry out. And stayed throughout the day. Good quality product and is worth the pice point. No sharpner with it, but that can be overseen for this rate.\n",
      "Sentiment: positive\n",
      "\n",
      "Review 7:\n",
      "Worth for money\n",
      "Sentiment: neutral\n",
      "\n",
      "Review 8:\n",
      "This is a free lipstick that I received when I bought one sugar lipstick. The colour is very beautiful but the lipstick is totally smudging and is washable. Quality wise the lipstick even if it is free it is a complete waste. Also this lipstick that is free comes with the only quantity that I have marked in the image but don't know why they mention the price is 386 for a free lipstick.\n",
      "Sentiment: neutral\n"
     ]
    }
   ],
   "source": [
    "from transformers import AutoTokenizer, AutoModelForSequenceClassification\n",
    "import torch\n",
    "import torch.nn.functional as F\n",
    "\n",
    "# Load pretrained model and tokenizer\n",
    "model_name = \"cardiffnlp/twitter-roberta-base-sentiment\"\n",
    "tokenizer = AutoTokenizer.from_pretrained(model_name)\n",
    "model = AutoModelForSequenceClassification.from_pretrained(model_name)\n",
    "\n",
    "labels = ['negative', 'neutral', 'positive']\n",
    "\n",
    "def analyze_sentiment(text):\n",
    "    # Tokenize input\n",
    "    inputs = tokenizer(text, return_tensors=\"pt\", truncation=True, max_length=512)\n",
    "    # Predict\n",
    "    with torch.no_grad():\n",
    "        logits = model(**inputs).logits\n",
    "    probs = F.softmax(logits, dim=1)\n",
    "    sentiment = labels[probs.argmax()]\n",
    "    return sentiment\n",
    "\n",
    "# Example: Sentiment of all reviews\n",
    "for i, review in enumerate(reviews, 1):\n",
    "    sentiment = analyze_sentiment(review)\n",
    "    print(f\"\\nReview {i}:\")\n",
    "    print(review)\n",
    "    print(f\"Sentiment: {sentiment}\")\n"
   ]
  },
  {
   "cell_type": "markdown",
   "id": "ce7bfb82",
   "metadata": {
    "id": "fMKkRkvXRDAb"
   },
   "source": [
    "**This code is analyzing the sentiment of collected Amazon reviews, calculating an overall sentiment score, generating a summary of the reviews, and providing a final buy/don't buy verdict based on the sentiment analysis.**"
   ]
  },
  {
   "cell_type": "code",
   "execution_count": null,
   "id": "9b150649",
   "metadata": {
    "colab": {
     "base_uri": "https://localhost:8080/"
    },
    "id": "aO-ewPFSnCuH",
    "outputId": "7e75edf9-76c0-42f6-fbb7-dcf0ae84f84d"
   },
   "outputs": [
    {
     "name": "stderr",
     "output_type": "stream",
     "text": [
      "No model was supplied, defaulted to distilbert/distilbert-base-uncased-finetuned-sst-2-english and revision 714eb0f (https://huggingface.co/distilbert/distilbert-base-uncased-finetuned-sst-2-english).\n",
      "Using a pipeline without specifying a model name and revision in production is not recommended.\n",
      "Device set to use cuda:0\n",
      "Device set to use cuda:0\n"
     ]
    },
    {
     "name": "stdout",
     "output_type": "stream",
     "text": [
      "📝 Summary of Reviews:\n",
      "Sugar’s Matte As Hell Crayon Lipstick in 15 Stephanie Plum (Plum Mauve)! This bold mauve-plum shade is my go-to for everything from work to nights out. The 2.8g crayon applies like a dream\n",
      "\n",
      "📢 Final Verdict:\n",
      "⚠️ Mixed — Consider checking more details before buying.\n"
     ]
    }
   ],
   "source": [
    "from transformers import pipeline\n",
    "from statistics import mean\n",
    "\n",
    "\n",
    "# STEP 2: Perform sentiment analysis on each review\n",
    "sentiment_pipeline = pipeline(\"sentiment-analysis\")\n",
    "\n",
    "sentiments = sentiment_pipeline(reviews)\n",
    "\n",
    "# STEP 3: Convert sentiment labels to numeric scores\n",
    "def sentiment_score(label):\n",
    "    return {\"POSITIVE\": 1, \"NEGATIVE\": -1, \"NEUTRAL\": 0}.get(label, 0)\n",
    "\n",
    "scores = [sentiment_score(result[\"label\"]) for result in sentiments]\n",
    "average_score = mean(scores)\n",
    "\n",
    "# STEP 4: Generate a summary of all reviews\n",
    "summarizer = pipeline(\"summarization\", model=\"facebook/bart-large-cnn\")\n",
    "all_text = \" \".join(reviews)\n",
    "summary_output = summarizer(all_text, max_length=60, min_length=20, do_sample=False)[0][\"summary_text\"]\n",
    "\n",
    "# STEP 5: Make a final verdict based on average score\n",
    "if average_score > 0.5:\n",
    "    verdict = \"✅ Buy — Most reviews are positive.\"\n",
    "elif average_score >= 0:\n",
    "    verdict = \"⚠️ Mixed — Consider checking more details before buying.\"\n",
    "else:\n",
    "    verdict = \"❌ Not Recommended — Mostly negative reviews.\"\n",
    "\n",
    "# STEP 6: Output everything\n",
    "print(\"📝 Summary of Reviews:\")\n",
    "print(summary_output)\n",
    "\n",
    "print(\"\\n📢 Final Verdict:\")\n",
    "print(verdict)\n"
   ]
  }
 ],
 "metadata": {},
 "nbformat": 4,
 "nbformat_minor": 5
}
